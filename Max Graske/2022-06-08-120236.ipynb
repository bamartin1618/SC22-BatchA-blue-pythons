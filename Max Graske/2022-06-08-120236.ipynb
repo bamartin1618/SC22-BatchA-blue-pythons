{
 "cells": [
  {
   "cell_type": "code",
   "execution_count": 19,
   "metadata": {
    "collapsed": false
   },
   "outputs": [
    {
     "name": "stdout",
     "output_type": "stream",
     "text": [
      "191.0\n"
     ]
    }
   ],
   "source": [
    "import requests\n",
    "\n",
    "response = requests.get(\"https://api.nal.usda.gov/fdc/v1/food/747444?api_key=iFcV1BvcU9Zxt3LEwiTYUB0TbiKBd0dH8OU2Acyn\")\n",
    "\n",
    "our_data = response.json()\n",
    "\n",
    "our_data_nutrients = our_data['foodNutrients']\n",
    "\n",
    "for nutrient in our_data_nutrients:\n",
    "    \n",
    "    our_nutrient = nutrient['nutrient']\n",
    "    \n",
    "    if our_nutrient['name'] == 'Calcium, Ca':\n",
    "        print(nutrient['amount'])"
   ]
  },
  {
   "cell_type": "code",
   "execution_count": 0,
   "metadata": {
    "collapsed": false
   },
   "outputs": [
   ],
   "source": [
   ]
  },
  {
   "cell_type": "code",
   "execution_count": 0,
   "metadata": {
    "collapsed": false
   },
   "outputs": [
   ],
   "source": [
   ]
  }
 ],
 "metadata": {
  "kernelspec": {
   "display_name": "Python (nlp_env)",
   "language": "python",
   "metadata": {
    "debugger": true
   },
   "name": "nlp_env",
   "resource_dir": "/projects/85773b0e-5122-4795-8a89-36f2fbbe07dd/.local/share/jupyter/kernels/nlp_env"
  },
  "language_info": {
   "codemirror_mode": {
    "name": "ipython",
    "version": 3
   },
   "file_extension": ".py",
   "mimetype": "text/x-python",
   "name": "python",
   "nbconvert_exporter": "python",
   "pygments_lexer": "ipython3",
   "version": "3.8.13"
  }
 },
 "nbformat": 4,
 "nbformat_minor": 4
}