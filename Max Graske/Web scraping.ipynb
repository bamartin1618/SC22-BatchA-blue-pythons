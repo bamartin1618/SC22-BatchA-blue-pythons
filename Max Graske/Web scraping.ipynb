{
 "cells": [
  {
   "cell_type": "code",
   "execution_count": 1,
   "metadata": {
    "collapsed": false,
    "scrolled": true
   },
   "outputs": [
    {
     "name": "stdout",
     "output_type": "stream",
     "text": [
      "2021 - \"CODA\"\n",
      "2020 - \"Parasite\"\n",
      "2019 - \"Green Book\"\n",
      "2018 - \"The Shape of Water\"\n",
      "2017 - \"Moonlight\"\n",
      "2016 - \"Spotlight\"\n",
      "2015 - \"Birdman\"\n",
      "2014 - \"12 Years a Slave\"\n",
      "2013 - \"Argo\"\n",
      "2012 - \"The Artist\"\n",
      "2011 - \"The King's Speech\"\n",
      "2010 - \"The Hurt Locker\"\n",
      "2009 - \"Slumdog Millionaire\"\n",
      "2008 - \"No Country for Old Men\"\n",
      "2007 - \"The Departed\"\n",
      "2006 - \"Crash\"\n",
      "2005 - \"Million Dollar Baby\"\n",
      "2004 - \"The Lord of the Rings: The Return of the King\"\n",
      "2003 - \"Chicago\"\n",
      "2002 - \"A Beautiful Mind\"\n",
      "2001 - \"Gladiator\"\n",
      "2000 - \"American Beauty\"\n",
      "1999 - \"Shakespeare in Love\"\n",
      "1998 - \"Titanic\"\n",
      "1997 - \"The English Patient\"\n",
      "1996 - \"Braveheart\"\n",
      "1995 - \"Forrest Gump\"\n",
      "1994 - \"Schindler’s List\"\n",
      "1993 - \"Unforgiven\"\n",
      "1992 - \"The Silence of the Lambs\"\n",
      "1991 - \"Dances With Wolves\"\n",
      "1990 - \"Driving Miss Daisy\"\n",
      "1989 - \"Rain Man\"\n",
      "1988 - \"The Last Emperor\"\n",
      "1987 - \"Platoon\"\n",
      "1986 - \"Out of Africa\"\n",
      "1985 - \"Amadeus\"\n",
      "1984 - \"Terms of Endearment\"\n",
      "1983 - \"Gandhi\"\n",
      "1982 - \"Chariots of Fire\"\n",
      "1981 - \"Ordinary People\"\n",
      "1980 - \"Kramer vs. Kramer\"\n",
      "1979 - \"The Deer Hunter\"\n",
      "1978 - \"Annie Hall\"\n",
      "1977 - \"Rocky\"\n",
      "1976 - \"One Flew over the Cuckoo's Nest\"\n",
      "1975 - \"The Godfather Part II\"\n",
      "1974 - \"The Sting\"\n",
      "1973 - \"The Godfather\"\n",
      "1972 - \"The French Connection\"\n",
      "1971 - \"Patton\"\n",
      "1970 - \"Midnight Cowboy\"\n",
      "1969 - \"Oliver!\"\n",
      "1968 - \"In the Heat of the Night\"\n",
      "1967 - \"A Man for All Seasons\"\n",
      "1966 - \"The Sound of Music\"\n",
      "1965 - \"My Fair Lady\"\n",
      "1964 - \"Tom Jones\"\n",
      "1963 - \"Lawrence of Arabia\"\n",
      "1962 - \"West Side Story\"\n",
      "1961 - \"The Apartment\"\n",
      "1960 - \"Ben-Hur\"\n",
      "1959 - \"Gigi\"\n",
      "1958 - \"The Bridge on the River Kwai\"\n",
      "1957 - \"Around the World in 80 Days\"\n",
      "1956 - \"Marty\"\n",
      "1955 - \"On the Waterfront\"\n",
      "1954 - \"From Here to Eternity\"\n",
      "1953 - \"The Greatest Show on Earth\"\n",
      "1952 - \"An American in Paris\"\n",
      "1951 - \"All About Eve\"\n",
      "1950 - \"All the Kings Men\"\n",
      "1949 - \"Hamlet\"\n",
      "1948 - \"Gentleman's Agreement\"\n",
      "1947 - \"The Best Years of Our Lives\"\n",
      "1946 - \"The Lost Weekend\"\n",
      "1945 - \"Going My Way\"\n",
      "1944 - \"Casablanca\"\n",
      "1943 - \"Mrs. Miniver\"\n",
      "1942 - \"How Green Was My Valley\"\n",
      "1941 - \"Rebecca\"\n",
      "1940 - \"Gone with the Wind\"\n",
      "1939 - \"You Can't Take It with You\"\n",
      "1938 - \"The Life of Emile Zola\"\n",
      "1937 - \"The Great Ziegfeld\"\n",
      "1936 - \"Mutiny on the Bounty\"\n",
      "1935 - \"It Happened One Night\"\n",
      "1933/1934 - \"Cavalcade\"\n",
      "1932/1933 - \"Grand Hotel\"\n",
      "1931/1932 - \"Cimarron\"\n",
      "1930/1931 - \"All Quiet on the Western Front\"\n",
      "1929/1930 - \"The Broadway Melody\"\n",
      "1928/1929 - \"Wings\"\n"
     ]
    }
   ],
   "source": [
    "import requests\n",
    "from bs4 import BeautifulSoup\n",
    "\n",
    "response = requests.get('https://www.today.com/popculture/complete-list-every-best-picture-oscar-winner-ever-t107617')\n",
    "html = response.text\n",
    "\n",
    "parser = BeautifulSoup(html, 'html.parser')\n",
    "\n",
    "parser\n",
    "\n",
    "article_body = parser.find_all('div', attrs = {'class' : 'article-body'})[1]\n",
    "\n",
    "movie_containers = parser.find_all('ul', attrs = {'class' : 'break-above'})\n",
    "\n",
    "for movie_container in movie_containers:\n",
    "    \n",
    "    movie_winners = movie_container.find_all('li')\n",
    "    \n",
    "    for movie_winner in movie_winners:\n",
    "    \n",
    "        print(movie_winner.text)"
   ]
  },
  {
   "cell_type": "code",
   "execution_count": 0,
   "metadata": {
    "collapsed": false
   },
   "outputs": [
   ],
   "source": [
   ]
  },
  {
   "cell_type": "code",
   "execution_count": 0,
   "metadata": {
    "collapsed": false
   },
   "outputs": [
   ],
   "source": [
   ]
  },
  {
   "cell_type": "code",
   "execution_count": 0,
   "metadata": {
    "collapsed": false
   },
   "outputs": [
   ],
   "source": [
   ]
  }
 ],
 "metadata": {
  "kernelspec": {
   "display_name": "Python (nlp_env)",
   "language": "python",
   "metadata": {
    "debugger": true
   },
   "name": "nlp_env",
   "resource_dir": "/projects/85773b0e-5122-4795-8a89-36f2fbbe07dd/.local/share/jupyter/kernels/nlp_env"
  },
  "language_info": {
   "codemirror_mode": {
    "name": "ipython",
    "version": 3
   },
   "file_extension": ".py",
   "mimetype": "text/x-python",
   "name": "python",
   "nbconvert_exporter": "python",
   "pygments_lexer": "ipython3",
   "version": "3.8.13"
  }
 },
 "nbformat": 4,
 "nbformat_minor": 4
}