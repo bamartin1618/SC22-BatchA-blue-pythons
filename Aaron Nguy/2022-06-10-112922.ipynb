{
 "cells": [
  {
   "cell_type": "code",
   "execution_count": 0,
   "metadata": {
    "collapsed": false
   },
   "outputs": [
   ],
   "source": [
    "import os\n",
    "\n",
    "os.path.isfile(parameter)\n",
    "\n",
    "python_files = []\n",
    "\n",
    "def extract_python_files(filepath):\n",
    "\n",
    "    global python_files\n",
    "\n",
    "    if os.path.file(filepath) and filepath[-2:] == 'py':\n",
    "        python_files.append(filepath)\n",
    "\n",
    "    elif os.path.isfile(filepath):\n",
    "        return none\n",
    "\n",
    "    else:\n",
    "        filepath_files = os.listdir(filepath)\n",
    "\n",
    "        for filepath_file in filepath_files:\n",
    "            extract_python_files(f'{filepath}/{filepath_file}')\n",
    "\n",
    "print(len(python_files))\n",
    "\n",
    "import random\n",
    "\n",
    "files_sample = random.sample(python_files, 600)\n",
    "\n",
    "code_dataset = open('code_dataset.txt', 'w')\n",
    "\n",
    "for filepath in files_sample:\n",
    "\n",
    "    file_code = open(filepath, encoding = 'latin-1').readlines()\n",
    "\n",
    "    for line in file_code:\n",
    "\n",
    "        code_dataset.write(line)\n",
    "\n",
    "code_dataset.close()"
   ]
  },
  {
   "cell_type": "code",
   "execution_count": 0,
   "metadata": {
    "collapsed": false
   },
   "outputs": [
   ],
   "source": [
   ]
  },
  {
   "cell_type": "code",
   "execution_count": 0,
   "metadata": {
    "collapsed": false
   },
   "outputs": [
   ],
   "source": [
   ]
  },
  {
   "cell_type": "code",
   "execution_count": 0,
   "metadata": {
    "collapsed": false
   },
   "outputs": [
   ],
   "source": [
   ]
  },
  {
   "cell_type": "code",
   "execution_count": 0,
   "metadata": {
    "collapsed": false
   },
   "outputs": [
   ],
   "source": [
   ]
  },
  {
   "cell_type": "code",
   "execution_count": 0,
   "metadata": {
    "collapsed": false
   },
   "outputs": [
   ],
   "source": [
   ]
  },
  {
   "cell_type": "code",
   "execution_count": 0,
   "metadata": {
    "collapsed": false
   },
   "outputs": [
   ],
   "source": [
   ]
  },
  {
   "cell_type": "code",
   "execution_count": 0,
   "metadata": {
    "collapsed": false
   },
   "outputs": [
   ],
   "source": [
   ]
  },
  {
   "cell_type": "code",
   "execution_count": 0,
   "metadata": {
    "collapsed": false
   },
   "outputs": [
   ],
   "source": [
   ]
  }
 ],
 "metadata": {
  "kernelspec": {
   "display_name": "Python (nlp_env)",
   "language": "python",
   "metadata": {
    "debugger": true
   },
   "name": "nlp_env",
   "resource_dir": "/projects/7a0d9dc4-a729-4511-b795-d6d235d03b6d/.local/share/jupyter/kernels/nlp_env"
  },
  "language_info": {
   "codemirror_mode": {
    "name": "ipython",
    "version": 3
   },
   "file_extension": ".py",
   "mimetype": "text/x-python",
   "name": "python",
   "nbconvert_exporter": "python",
   "pygments_lexer": "ipython3",
   "version": "3.8.13"
  }
 },
 "nbformat": 4,
 "nbformat_minor": 4
}