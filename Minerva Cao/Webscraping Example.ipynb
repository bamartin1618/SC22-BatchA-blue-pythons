{
 "cells": [
  {
   "cell_type": "code",
   "execution_count": 0,
   "metadata": {
    "collapsed": false
   },
   "outputs": [
   ],
   "source": [
    "import requests\n",
    "from bs4 import BeautifulSoup\n",
    "response = requests.get(\"website\")\n",
    "html = response.text\n",
    "parser = BeautifulSoup(html, \"html.parser\")\n",
    "article_body = parser.find_all(\"div\", attra = ('class', 'article-body'))[1] \n"
   ]
  }
 ],
 "metadata": {
  "kernelspec": {
   "display_name": "Python (nlp_env)",
   "language": "python",
   "metadata": {
    "debugger": true
   },
   "name": "nlp_env",
   "resource_dir": "/projects/85773b0e-5122-4795-8a89-36f2fbbe07dd/.local/share/jupyter/kernels/nlp_env"
  }
 },
 "nbformat": 4,
 "nbformat_minor": 4
}