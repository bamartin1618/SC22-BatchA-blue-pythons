{
 "cells": [
  {
   "cell_type": "code",
   "execution_count": 0,
   "metadata": {
    "collapsed": false
   },
   "outputs": [
   ],
   "source": [
    "import requests\n",
    "response = requests.get(\"the request from the api\")\n",
    "#<Response [200]> means it worked\n",
    "our_data = response.json()\n",
    "our_data['totalHits'] #find the value in the dictionary json \n",
    "#put a ? before the api key\n",
    "##rest of code in ide"
   ]
  },
  {
   "cell_type": "code",
   "execution_count": 0,
   "metadata": {
    "collapsed": false
   },
   "outputs": [
   ],
   "source": [
   ]
  },
  {
   "cell_type": "code",
   "execution_count": 23,
   "metadata": {
    "collapsed": false
   },
   "outputs": [
    {
     "name": "stdout",
     "output_type": "stream",
     "text": [
      "{'error': False, 'category': 'Programming', 'type': 'single', 'joke': \"Knock knock.\\nWho's there?\\nRecursion.\\nRecursion who?\\nKnock knock.\", 'flags': {'nsfw': False, 'religious': False, 'political': False, 'racist': False, 'sexist': False, 'explicit': False}, 'id': 180, 'safe': True, 'lang': 'en'}\n"
     ]
    }
   ],
   "source": [
    "import requests\n",
    "\n",
    "response = requests.get(\"https://v2.jokeapi.dev/joke/Any?safe-mode\")\n",
    "our_data = response.json()\n",
    "print(our_data)\n",
    "\n",
    "\n"
   ]
  },
  {
   "cell_type": "code",
   "execution_count": 0,
   "metadata": {
    "collapsed": false
   },
   "outputs": [
   ],
   "source": [
    "# ^ ^ ^From this site: https://rapidapi.com/Sv443/api/jokeapi-v2/\n",
    "#But I can't find how to get all the jokes instead of just one at a time"
   ]
  },
  {
   "cell_type": "code",
   "execution_count": 17,
   "metadata": {
    "collapsed": false
   },
   "outputs": [
    {
     "name": "stdout",
     "output_type": "stream",
     "text": [
      "{\"message\":\"Invalid API key. Go to https:\\/\\/docs.rapidapi.com\\/docs\\/keys for more info.\"}\n"
     ]
    }
   ],
   "source": [
    "import requests\n",
    "\n",
    "response = requests.get(\"https://jokes-by-api-ninjas.p.rapidapi.com/v1/jokes?bf166d1e23msh845d2e71e140f87p14b50ejsn72258fea5be6\")\n",
    "#headers = {\n",
    "\t#\"X-RapidAPI-Key\": \"bf166d1e23msh845d2e71e140f87p14b50ejsn72258fea5be6\",\n",
    "\t#\"X-RapidAPI-Host\": \"jokes-by-api-ninjas.p.rapidapi.com\"\n",
    "#}\n",
    "\n",
    "#response = response.text\n",
    "\n",
    "print(response.text)"
   ]
  },
  {
   "cell_type": "code",
   "execution_count": 0,
   "metadata": {
    "collapsed": false
   },
   "outputs": [
   ],
   "source": [
    "#^ ^ This did not work: https://rapidapi.com/apininjas/api/jokes-by-api-ninjas/\n"
   ]
  },
  {
   "cell_type": "code",
   "execution_count": 0,
   "metadata": {
    "collapsed": false
   },
   "outputs": [
   ],
   "source": [
   ]
  },
  {
   "cell_type": "code",
   "execution_count": 22,
   "metadata": {
    "collapsed": false
   },
   "outputs": [
   ],
   "source": [
    "# More jokes\n",
    "#https://github.com/15Dkatz/official_joke_api/blob/master/jokes/index.json"
   ]
  },
  {
   "cell_type": "code",
   "execution_count": 0,
   "metadata": {
    "collapsed": false
   },
   "outputs": [
   ],
   "source": [
    "#https://www.kaggle.com/datasets/abhinavmoudgil95/short-jokes\n",
    "\n"
   ]
  },
  {
   "cell_type": "code",
   "execution_count": 0,
   "metadata": {
    "collapsed": false
   },
   "outputs": [
   ],
   "source": [
    "#For story starter/opening lines \n",
    "#https://greatopeninglines.com/"
   ]
  }
 ],
 "metadata": {
  "kernelspec": {
   "display_name": "Python (nlp_env)",
   "language": "python",
   "metadata": {
    "debugger": true
   },
   "name": "nlp_env",
   "resource_dir": "/projects/85773b0e-5122-4795-8a89-36f2fbbe07dd/.local/share/jupyter/kernels/nlp_env"
  },
  "language_info": {
   "codemirror_mode": {
    "name": "ipython",
    "version": 3
   },
   "file_extension": ".py",
   "mimetype": "text/x-python",
   "name": "python",
   "nbconvert_exporter": "python",
   "pygments_lexer": "ipython3",
   "version": "3.8.13"
  }
 },
 "nbformat": 4,
 "nbformat_minor": 4
}