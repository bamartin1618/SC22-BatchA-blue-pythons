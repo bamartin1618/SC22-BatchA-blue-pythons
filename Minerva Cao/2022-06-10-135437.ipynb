{
 "cells": [
  {
   "cell_type": "code",
   "execution_count": 4,
   "metadata": {
    "collapsed": false
   },
   "outputs": [
    {
     "data": {
      "text/plain": [
       "<__main__.Tree at 0x7fcd1eeb93d0>"
      ]
     },
     "execution_count": 4,
     "metadata": {
     },
     "output_type": "execute_result"
    }
   ],
   "source": [
    "class Tree:\n",
    "    \n",
    "    def __init__(self, key):\n",
    "        \n",
    "        self.root = key\n",
    "        self.left = None\n",
    "        self.right = None\n",
    "our_tree = Tree(2)\n",
    "our_tree.left = Tree(7)\n",
    "our_tree.right = Tree(5)\n",
    "our_tree.left.left = Tree(2)\n"
   ]
  },
  {
   "cell_type": "code",
   "execution_count": 0,
   "metadata": {
    "collapsed": false
   },
   "outputs": [
   ],
   "source": [
   ]
  }
 ],
 "metadata": {
  "kernelspec": {
   "display_name": "Python (nlp_env)",
   "language": "python",
   "metadata": {
    "debugger": true
   },
   "name": "nlp_env",
   "resource_dir": "/projects/7a0d9dc4-a729-4511-b795-d6d235d03b6d/.local/share/jupyter/kernels/nlp_env"
  },
  "language_info": {
   "codemirror_mode": {
    "name": "ipython",
    "version": 3
   },
   "file_extension": ".py",
   "mimetype": "text/x-python",
   "name": "python",
   "nbconvert_exporter": "python",
   "pygments_lexer": "ipython3",
   "version": "3.8.13"
  }
 },
 "nbformat": 4,
 "nbformat_minor": 4
}